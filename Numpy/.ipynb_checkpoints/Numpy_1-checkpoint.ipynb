{
 "cells": [
  {
   "cell_type": "code",
   "execution_count": 14,
   "id": "5a655193-b624-43bb-ad9e-03bc37770475",
   "metadata": {},
   "outputs": [],
   "source": [
    "import numpy as np"
   ]
  },
  {
   "cell_type": "code",
   "execution_count": 15,
   "id": "f90df1ed-ac4b-4a50-9ec5-a10435dd3f5c",
   "metadata": {},
   "outputs": [],
   "source": [
    "# declare array\n",
    "a =np.array([5,6,7])"
   ]
  },
  {
   "cell_type": "code",
   "execution_count": 16,
   "id": "1eddcfc0-5bf4-471e-8205-54d5764c07a2",
   "metadata": {},
   "outputs": [
    {
     "name": "stdout",
     "output_type": "stream",
     "text": [
      "5\n"
     ]
    }
   ],
   "source": [
    "# Print array\n",
    "print(a[0])"
   ]
  },
  {
   "cell_type": "code",
   "execution_count": 17,
   "id": "befc8dac-3ae7-4625-a6cc-3a677d3fde8e",
   "metadata": {},
   "outputs": [
    {
     "data": {
      "text/plain": [
       "1"
      ]
     },
     "execution_count": 17,
     "metadata": {},
     "output_type": "execute_result"
    }
   ],
   "source": [
    "# Dimension of array\n",
    "a.ndim"
   ]
  },
  {
   "cell_type": "code",
   "execution_count": 18,
   "id": "d3fa6c24-3bde-444d-aba8-197c5bdd0ed5",
   "metadata": {},
   "outputs": [
    {
     "data": {
      "text/plain": [
       "2"
      ]
     },
     "execution_count": 18,
     "metadata": {},
     "output_type": "execute_result"
    }
   ],
   "source": [
    "# Dimension of array\n",
    "a=np.array([[1,2],[3,4],[5,6]])\n",
    "a.ndim"
   ]
  },
  {
   "cell_type": "code",
   "execution_count": 19,
   "id": "34603c27-6cbd-4593-9c4b-e2e673e31e2b",
   "metadata": {},
   "outputs": [
    {
     "data": {
      "text/plain": [
       "8"
      ]
     },
     "execution_count": 19,
     "metadata": {},
     "output_type": "execute_result"
    }
   ],
   "source": [
    "# byte size of element\n",
    "a.itemsize"
   ]
  },
  {
   "cell_type": "code",
   "execution_count": 20,
   "id": "27806d3b-25fc-46eb-aad3-6287bba53efd",
   "metadata": {},
   "outputs": [
    {
     "data": {
      "text/plain": [
       "dtype('int64')"
      ]
     },
     "execution_count": 20,
     "metadata": {},
     "output_type": "execute_result"
    }
   ],
   "source": [
    "a.dtype"
   ]
  },
  {
   "cell_type": "code",
   "execution_count": 31,
   "id": "666b677d-4f83-4be9-a324-1b1efde193e9",
   "metadata": {},
   "outputs": [],
   "source": [
    "# change datatype\n",
    "a=np.array([[1,2],[3,4],[5,6]],dtype=np.float64)"
   ]
  },
  {
   "cell_type": "code",
   "execution_count": 33,
   "id": "ebe1097e-8a1f-40ee-91b4-f06c0212e43d",
   "metadata": {},
   "outputs": [
    {
     "data": {
      "text/plain": [
       "dtype('float64')"
      ]
     },
     "execution_count": 33,
     "metadata": {},
     "output_type": "execute_result"
    }
   ],
   "source": [
    "a.dtype"
   ]
  },
  {
   "cell_type": "code",
   "execution_count": 34,
   "id": "666cfb9b-d09a-4d9e-8095-2ea9099e7552",
   "metadata": {},
   "outputs": [
    {
     "data": {
      "text/plain": [
       "8"
      ]
     },
     "execution_count": 34,
     "metadata": {},
     "output_type": "execute_result"
    }
   ],
   "source": [
    "a.itemsize"
   ]
  },
  {
   "cell_type": "code",
   "execution_count": 35,
   "id": "6bb77310-b7cf-4017-a850-9bb165457899",
   "metadata": {},
   "outputs": [
    {
     "data": {
      "text/plain": [
       "array([[1., 2.],\n",
       "       [3., 4.],\n",
       "       [5., 6.]])"
      ]
     },
     "execution_count": 35,
     "metadata": {},
     "output_type": "execute_result"
    }
   ],
   "source": [
    "a"
   ]
  },
  {
   "cell_type": "code",
   "execution_count": 38,
   "id": "6b2b40c0-d816-4dd9-87e8-4f7f74e00317",
   "metadata": {},
   "outputs": [
    {
     "data": {
      "text/plain": [
       "6"
      ]
     },
     "execution_count": 38,
     "metadata": {},
     "output_type": "execute_result"
    }
   ],
   "source": [
    "# size of array(no of elements)\n",
    "a.size"
   ]
  },
  {
   "cell_type": "code",
   "execution_count": 41,
   "id": "9e246c6b-a03a-4de1-99de-621e82ce4e7f",
   "metadata": {},
   "outputs": [
    {
     "data": {
      "text/plain": [
       "(3, 2)"
      ]
     },
     "execution_count": 41,
     "metadata": {},
     "output_type": "execute_result"
    }
   ],
   "source": [
    "# shape represnts the information of dimenions(rows*column)\n",
    "a.shape"
   ]
  },
  {
   "cell_type": "code",
   "execution_count": 43,
   "id": "7046cd9f-a0a5-4558-b83c-e7608a07140e",
   "metadata": {},
   "outputs": [],
   "source": [
    "a=np.array([[1,2],[3,4],[5,6]],dtype=complex)"
   ]
  },
  {
   "cell_type": "code",
   "execution_count": 47,
   "id": "c865f65b-9931-42e9-b6ce-3be21851fba5",
   "metadata": {},
   "outputs": [
    {
     "data": {
      "text/plain": [
       "array([[1.+0.j, 2.+0.j],\n",
       "       [3.+0.j, 4.+0.j],\n",
       "       [5.+0.j, 6.+0.j]])"
      ]
     },
     "execution_count": 47,
     "metadata": {},
     "output_type": "execute_result"
    }
   ],
   "source": [
    "a"
   ]
  },
  {
   "cell_type": "code",
   "execution_count": 49,
   "id": "d0b98c3b-bf32-467f-94f2-3659f37475f0",
   "metadata": {},
   "outputs": [],
   "source": [
    "a=np.array(([1,2],[3,4],[5,6]))"
   ]
  },
  {
   "cell_type": "code",
   "execution_count": 50,
   "id": "2ed1f83a-3aeb-441b-8af1-38b6f076c90a",
   "metadata": {},
   "outputs": [
    {
     "data": {
      "text/plain": [
       "(3, 2)"
      ]
     },
     "execution_count": 50,
     "metadata": {},
     "output_type": "execute_result"
    }
   ],
   "source": [
    "a.shape"
   ]
  },
  {
   "cell_type": "code",
   "execution_count": 56,
   "id": "7594cffd-08d2-464b-a9e9-68a61b2487c9",
   "metadata": {},
   "outputs": [
    {
     "data": {
      "text/plain": [
       "array([[1, 2, 3],\n",
       "       [4, 5, 6]])"
      ]
     },
     "execution_count": 56,
     "metadata": {},
     "output_type": "execute_result"
    }
   ],
   "source": [
    " # used for reshape the array\n",
    "a.reshape(2,3)"
   ]
  },
  {
   "cell_type": "code",
   "execution_count": 57,
   "id": "3bcf8652-3c6d-446b-a9ec-250e139d7d73",
   "metadata": {},
   "outputs": [
    {
     "data": {
      "text/plain": [
       "array([[1],\n",
       "       [2],\n",
       "       [3],\n",
       "       [4],\n",
       "       [5],\n",
       "       [6]])"
      ]
     },
     "execution_count": 57,
     "metadata": {},
     "output_type": "execute_result"
    }
   ],
   "source": [
    "a.reshape(6,1)"
   ]
  },
  {
   "cell_type": "code",
   "execution_count": 59,
   "id": "9201ccc6-19cd-41db-ba74-a0b60a6ad5ca",
   "metadata": {},
   "outputs": [
    {
     "data": {
      "text/plain": [
       "array([1, 2, 3, 4, 5, 6])"
      ]
     },
     "execution_count": 59,
     "metadata": {},
     "output_type": "execute_result"
    }
   ],
   "source": [
    "# reavel is used to make one dimensional \n",
    "a.ravel()"
   ]
  },
  {
   "cell_type": "code",
   "execution_count": 68,
   "id": "4ced092d-4e7c-4e35-a7ad-8c7bd3043ac6",
   "metadata": {},
   "outputs": [
    {
     "data": {
      "text/plain": [
       "array([[1, 2],\n",
       "       [3, 4],\n",
       "       [5, 6]])"
      ]
     },
     "execution_count": 68,
     "metadata": {},
     "output_type": "execute_result"
    }
   ],
   "source": [
    "a"
   ]
  },
  {
   "cell_type": "code",
   "execution_count": 69,
   "id": "12ed6820-0ed1-402c-910c-5f361c358257",
   "metadata": {},
   "outputs": [
    {
     "name": "stdout",
     "output_type": "stream",
     "text": [
      "1\n"
     ]
    }
   ],
   "source": [
    "# print minimum array\n",
    "print(a.min())"
   ]
  },
  {
   "cell_type": "code",
   "execution_count": 70,
   "id": "38cad326-ccbf-4aef-8c2b-d3ec2c67c7e0",
   "metadata": {},
   "outputs": [
    {
     "name": "stdout",
     "output_type": "stream",
     "text": [
      "6\n"
     ]
    }
   ],
   "source": [
    "# print maximum array\n",
    "print(a.max())"
   ]
  },
  {
   "cell_type": "code",
   "execution_count": 71,
   "id": "724d9be6-f7ee-4af3-9253-f3412eef1468",
   "metadata": {},
   "outputs": [
    {
     "name": "stdout",
     "output_type": "stream",
     "text": [
      "21\n"
     ]
    }
   ],
   "source": [
    "# sum of all number\n",
    "print(a.sum())"
   ]
  },
  {
   "cell_type": "code",
   "execution_count": 76,
   "id": "d42e1fe0-e2a0-4a81-b503-9eabe6dea2b7",
   "metadata": {},
   "outputs": [
    {
     "name": "stdout",
     "output_type": "stream",
     "text": [
      "[ 9 12]\n"
     ]
    }
   ],
   "source": [
    "# sum using axis(axis 0 is sum of colummn)\n",
    "print(a.sum(axis=0))\n",
    "# (1+3+5 2+4+6)"
   ]
  },
  {
   "cell_type": "code",
   "execution_count": 77,
   "id": "1d1a9c13-5fc3-409e-b920-45b1629c5db5",
   "metadata": {},
   "outputs": [
    {
     "name": "stdout",
     "output_type": "stream",
     "text": [
      "[ 3  7 11]\n"
     ]
    }
   ],
   "source": [
    "# sum using axis (axis 1 is sum of colummn)\n",
    "print(a.sum(axis=1))\n",
    "# (1+2 3+4 5+6)"
   ]
  },
  {
   "cell_type": "code",
   "execution_count": 79,
   "id": "f5e95322-79a3-4e7e-b202-d65717838d21",
   "metadata": {},
   "outputs": [
    {
     "data": {
      "text/plain": [
       "array([[1.        , 1.41421356],\n",
       "       [1.73205081, 2.        ],\n",
       "       [2.23606798, 2.44948974]])"
      ]
     },
     "execution_count": 79,
     "metadata": {},
     "output_type": "execute_result"
    }
   ],
   "source": [
    "# squareroot\n",
    "np.sqrt(a)"
   ]
  },
  {
   "cell_type": "code",
   "execution_count": 81,
   "id": "d9f1b002-2e13-4c60-a0b6-0f03942b983d",
   "metadata": {},
   "outputs": [
    {
     "name": "stdout",
     "output_type": "stream",
     "text": [
      "1.707825127659933\n"
     ]
    }
   ],
   "source": [
    " # standard deviation\n",
    "print(np.std(a))"
   ]
  }
 ],
 "metadata": {
  "kernelspec": {
   "display_name": "Python 3 (ipykernel)",
   "language": "python",
   "name": "python3"
  },
  "language_info": {
   "codemirror_mode": {
    "name": "ipython",
    "version": 3
   },
   "file_extension": ".py",
   "mimetype": "text/x-python",
   "name": "python",
   "nbconvert_exporter": "python",
   "pygments_lexer": "ipython3",
   "version": "3.12.1"
  }
 },
 "nbformat": 4,
 "nbformat_minor": 5
}
