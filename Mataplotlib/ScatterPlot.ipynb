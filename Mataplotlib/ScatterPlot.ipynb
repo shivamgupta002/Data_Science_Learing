{
 "cells": [
  {
   "cell_type": "code",
   "execution_count": null,
   "id": "fb6f9c69-41a2-4934-802a-099484fd5e08",
   "metadata": {},
   "outputs": [],
   "source": [
    "# A scatter plot is a chart that display the realtionship between 2 varibale. A dot represnts each value in the data set"
   ]
  },
  {
   "cell_type": "code",
   "execution_count": 1,
   "id": "9e01629c-0d67-48f4-ad46-0985bb7ff07f",
   "metadata": {},
   "outputs": [],
   "source": [
    "import matplotlib.pyplot as plt\n",
    "import numpy as np"
   ]
  },
  {
   "cell_type": "code",
   "execution_count": null,
   "id": "6661b63c-d9f2-442c-bea2-d5c0eb11e52c",
   "metadata": {},
   "outputs": [],
   "source": []
  }
 ],
 "metadata": {
  "kernelspec": {
   "display_name": "Python 3 (ipykernel)",
   "language": "python",
   "name": "python3"
  },
  "language_info": {
   "codemirror_mode": {
    "name": "ipython",
    "version": 3
   },
   "file_extension": ".py",
   "mimetype": "text/x-python",
   "name": "python",
   "nbconvert_exporter": "python",
   "pygments_lexer": "ipython3",
   "version": "3.12.1"
  }
 },
 "nbformat": 4,
 "nbformat_minor": 5
}
