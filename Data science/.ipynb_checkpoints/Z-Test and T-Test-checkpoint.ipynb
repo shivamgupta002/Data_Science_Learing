{
 "cells": [
  {
   "cell_type": "code",
   "execution_count": 2,
   "id": "f444b4b7-4c82-4d8e-a750-98bf9888fb63",
   "metadata": {},
   "outputs": [],
   "source": [
    "import numpy as np\n",
    "import scipy.stats as st"
   ]
  },
  {
   "cell_type": "markdown",
   "id": "5cbe84b3-dc63-444c-af1d-e89343a52dc0",
   "metadata": {},
   "source": [
    "### Example 1 :- A teacher claims that the new mean score of students in his class is greater than 82 with a standard deviation of 20. if a sample of 81 students was selected with a mean score of 90."
   ]
  },
  {
   "cell_type": "code",
   "execution_count": 3,
   "id": "ce6f8dd3-e7ec-4435-89e5-c379ec89bf6f",
   "metadata": {},
   "outputs": [],
   "source": [
    "s_x=90 ## sample mean\n",
    "p_u=82 ## population mean\n",
    "p_std=20 ## population deviation\n",
    "n=81 ## no of sample data\n",
    "ap=0.05 ##aplha"
   ]
  },
  {
   "cell_type": "code",
   "execution_count": 6,
   "id": "4bc464b0-a572-4c22-963a-f263720fd304",
   "metadata": {},
   "outputs": [
    {
     "name": "stdout",
     "output_type": "stream",
     "text": [
      "1.6448536269514722\n"
     ]
    }
   ],
   "source": [
    "z_table=st.norm.ppf(1-ap)\n",
    "print(z_table)"
   ]
  },
  {
   "cell_type": "code",
   "execution_count": 8,
   "id": "283a2cd3-b543-4f20-9dad-fdd082fbb367",
   "metadata": {},
   "outputs": [
    {
     "name": "stdout",
     "output_type": "stream",
     "text": [
      "3.5999999999999996\n"
     ]
    }
   ],
   "source": [
    "z_cal=(s_x - p_u)/(p_std/np.sqrt(n))\n",
    "print(z_cal)"
   ]
  },
  {
   "cell_type": "code",
   "execution_count": 9,
   "id": "4e5d8e9a-0dc0-46bf-873d-91128abe4ad1",
   "metadata": {},
   "outputs": [
    {
     "name": "stdout",
     "output_type": "stream",
     "text": [
      "ha is right\n"
     ]
    }
   ],
   "source": [
    "if z_table<z_cal:\n",
    "    print(\"ha is right\")\n",
    "else:\n",
    "     print(\"h0 is right\")"
   ]
  }
 ],
 "metadata": {
  "kernelspec": {
   "display_name": "Python 3 (ipykernel)",
   "language": "python",
   "name": "python3"
  },
  "language_info": {
   "codemirror_mode": {
    "name": "ipython",
    "version": 3
   },
   "file_extension": ".py",
   "mimetype": "text/x-python",
   "name": "python",
   "nbconvert_exporter": "python",
   "pygments_lexer": "ipython3",
   "version": "3.12.1"
  }
 },
 "nbformat": 4,
 "nbformat_minor": 5
}
